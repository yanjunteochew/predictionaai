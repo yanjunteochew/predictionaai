{
 "cells": [
  {
   "cell_type": "code",
   "execution_count": 1,
   "metadata": {},
   "outputs": [],
   "source": [
    "import pandas as pd\n",
    "import numpy as np\n",
    "\n",
    "from sklearn.preprocessing import StandardScaler\n",
    "from sklearn.ensemble import RandomForestClassifier\n",
    "from sklearn.metrics import r2_score, mean_squared_error"
   ]
  },
  {
   "cell_type": "code",
   "execution_count": 2,
   "metadata": {},
   "outputs": [],
   "source": [
    "historical_defects = pd.read_csv('data/historical_defects.csv')\n",
    "inspection_sessions = pd.read_csv('data/inspection_sessions.csv')\n",
    "defects = pd.read_csv('data/defects.csv')\n",
    "train_defects = pd.read_csv('data/train_defects.csv', delimiter=',')"
   ]
  },
  {
   "cell_type": "code",
   "execution_count": 3,
   "metadata": {},
   "outputs": [
    {
     "data": {
      "text/plain": [
       "(Index(['inspection_id', 'defect_id', 'defect_sequence_no',\n",
       "        'repeat_defect_detected'],\n",
       "       dtype='object'),\n",
       " Index(['inspection_id', 'machine_id', 'eval_set', 'inspection_number',\n",
       "        'inspection_dow', 'inspection_hour_of_day',\n",
       "        'days_since_last_inspection'],\n",
       "       dtype='object'),\n",
       " Index(['defect_id', 'defect_subcategory_id', 'defect_category_id'], dtype='object'),\n",
       " Index(['inspection_id', 'defect_id', 'defect_sequence_no',\n",
       "        'repeat_defect_detected'],\n",
       "       dtype='object'))"
      ]
     },
     "execution_count": 3,
     "metadata": {},
     "output_type": "execute_result"
    }
   ],
   "source": [
    "historical_defects.columns, inspection_sessions.columns, defects.columns, train_defects.columns"
   ]
  },
  {
   "cell_type": "code",
   "execution_count": 4,
   "metadata": {},
   "outputs": [],
   "source": [
    "# We are looking for potential indicators of repeat defect\n",
    "\n",
    "# ~features describing the time of defect detected/not\n",
    "# inspection_hour_of_day (accuracy may be influenced by time of day, fatigue, lighting)\n",
    "# inspection_dow day of week\n",
    "\n",
    "# ~features describing the condition of machine and the specific defect\n",
    "# defect_sequence_no (the sequence/order of specific defect) {defect_id,sequence_no} -->category?\n",
    "# machine_id\n",
    "# days since last inspection (condition may have deteriorated much if inspected a long time ago)\n",
    "# inspection number (how many times has it been inspected)\n",
    "\n",
    "# ~features describing the defect itself\n",
    "# not available in test set\n",
    "# ?defect_id (doesn't the sub category and category combined imply the id?)\n",
    "# defect_subcategory_id\n",
    "# defect_category_id"
   ]
  },
  {
   "cell_type": "code",
   "execution_count": 5,
   "metadata": {},
   "outputs": [],
   "source": [
    "train_data = train_defects.merge(defects, on=\"defect_id\")\n",
    "train_data = train_data.rename(columns = {'repeat_defect_detected':'label'})\n",
    "train_data1 = train_data.merge(inspection_sessions, on='inspection_id')\n",
    "# features = train_data1.drop(['label','eval_set','inspection_id','defect_id'], axis=1).columns\n",
    "\n",
    "test_data = inspection_sessions[inspection_sessions['eval_set']=='test']\n",
    "features = test_data.drop(['eval_set'], axis=1).columns"
   ]
  },
  {
   "cell_type": "code",
   "execution_count": 6,
   "metadata": {},
   "outputs": [],
   "source": [
    "x_train = train_data1.loc[:, features].values\n",
    "x_train = StandardScaler().fit_transform(x_train)\n",
    "# x_train = train_data1[features].values\n",
    "y_train = train_data1['label'].values\n",
    "\n",
    "x_test = test_data.loc[:, features].values\n",
    "x_test = StandardScaler().fit_transform(x_test)\n",
    "# x_test = test_data[features].values"
   ]
  },
  {
   "cell_type": "code",
   "execution_count": 7,
   "metadata": {},
   "outputs": [
    {
     "name": "stdout",
     "output_type": "stream",
     "text": [
      "0.6081430859318905\n",
      "-0.5392014897163713\n"
     ]
    }
   ],
   "source": [
    "rf_model = RandomForestClassifier(n_estimators=100, max_depth=4, random_state=0)\n",
    "rf_model.fit(x_train, y_train)\n",
    "pred_train = rf_model.predict(x_train)\n",
    "\n",
    "print(np.sqrt(mean_squared_error(y_train,pred_train)))\n",
    "print(r2_score(y_train, pred_train))\n",
    "\n",
    "pred_test = rf_model.predict(x_test)\n"
   ]
  },
  {
   "cell_type": "code",
   "execution_count": 8,
   "metadata": {},
   "outputs": [
    {
     "name": "stderr",
     "output_type": "stream",
     "text": [
      "<ipython-input-8-dcbc1908d3dc>:1: SettingWithCopyWarning: \n",
      "A value is trying to be set on a copy of a slice from a DataFrame.\n",
      "Try using .loc[row_indexer,col_indexer] = value instead\n",
      "\n",
      "See the caveats in the documentation: https://pandas.pydata.org/pandas-docs/stable/user_guide/indexing.html#returning-a-view-versus-a-copy\n",
      "  test_data['pred_repeat'] = pred_test\n"
     ]
    }
   ],
   "source": [
    "test_data['pred_repeat'] = pred_test"
   ]
  },
  {
   "cell_type": "code",
   "execution_count": 9,
   "metadata": {},
   "outputs": [],
   "source": [
    "pre_machines = test_data[test_data['pred_repeat']==1][['inspection_id','machine_id']]"
   ]
  },
  {
   "cell_type": "markdown",
   "metadata": {},
   "source": [
    "# Get likely defects per machine"
   ]
  },
  {
   "cell_type": "code",
   "execution_count": 10,
   "metadata": {},
   "outputs": [],
   "source": [
    "unique_defect_machine = historical_defects[['inspection_id','defect_id']].drop_duplicates().merge(inspection_sessions[['inspection_id','machine_id']].drop_duplicates(), on=\"inspection_id\")\n"
   ]
  },
  {
   "cell_type": "code",
   "execution_count": 11,
   "metadata": {},
   "outputs": [
    {
     "data": {
      "text/plain": [
       "2"
      ]
     },
     "execution_count": 11,
     "metadata": {},
     "output_type": "execute_result"
    }
   ],
   "source": [
    "def getlikelydefect(x):\n",
    "    x_dict = {}\n",
    "    total = len(x)\n",
    "    for item in x:\n",
    "        if item in x_dict.keys():\n",
    "            continue\n",
    "        x_dict[item] = x.count(item)/total\n",
    "    return max(x_dict, key=x_dict.get)\n",
    "\n",
    "getlikelydefect([1,2,2,3,4])\n"
   ]
  },
  {
   "cell_type": "code",
   "execution_count": 12,
   "metadata": {},
   "outputs": [],
   "source": [
    "defects_in_machines = unique_defect_machine.groupby('machine_id')['defect_id'].apply(list).reset_index()\n",
    "defects_in_machines['likelidefect'] = defects_in_machines['defect_id'].apply(lambda x: getlikelydefect(x))\n"
   ]
  },
  {
   "cell_type": "code",
   "execution_count": 13,
   "metadata": {},
   "outputs": [],
   "source": [
    "pred_defects = pre_machines.merge(defects_in_machines, on='machine_id')"
   ]
  },
  {
   "cell_type": "code",
   "execution_count": 14,
   "metadata": {},
   "outputs": [],
   "source": [
    "list_defects_df = pred_defects.groupby('inspection_id')['defect_id'].apply(list).reset_index()"
   ]
  },
  {
   "cell_type": "markdown",
   "metadata": {},
   "source": [
    "# Formatting for output"
   ]
  },
  {
   "cell_type": "code",
   "execution_count": 15,
   "metadata": {},
   "outputs": [
    {
     "data": {
      "text/plain": [
       "'1 2 3 4'"
      ]
     },
     "execution_count": 15,
     "metadata": {},
     "output_type": "execute_result"
    }
   ],
   "source": [
    "def getdefectstr(x):\n",
    "    string_x = ''\n",
    "    for defect in x:\n",
    "        string_x = string_x + str(defect) + ' '\n",
    "    string_x = string_x.strip()\n",
    "    return string_x\n",
    "getdefectstr([1,2,3,4])"
   ]
  },
  {
   "cell_type": "code",
   "execution_count": 16,
   "metadata": {},
   "outputs": [],
   "source": [
    "list_defects_df['defect_id_str'] = list_defects_df['defect_id'].apply(lambda x: getdefectstr(x[0]))"
   ]
  },
  {
   "cell_type": "code",
   "execution_count": 17,
   "metadata": {},
   "outputs": [],
   "source": [
    "def getrowstr(x):\n",
    "    str_x = \"| \" + str(x['inspection_id']) + \" | \" + str(x['defect_id_str']) + \"\\t|\" \n",
    "    return str_x"
   ]
  },
  {
   "cell_type": "code",
   "execution_count": 18,
   "metadata": {},
   "outputs": [],
   "source": [
    "list_defects_df['row_str'] = list_defects_df.apply(lambda x: getrowstr(x), axis=1)\n",
    "list_defects_df = list_defects_df.rename(columns={\"row_str\": \"| inspection_id    | defects |\"})"
   ]
  },
  {
   "cell_type": "code",
   "execution_count": 19,
   "metadata": {},
   "outputs": [],
   "source": [
    "list_defects_df.loc[-1] = [\"-\",\"- \",\"-\",\"| ------- | ------- |\"]\n",
    "list_defects_df.index = list_defects_df.index + 1\n",
    "list_defects_df.sort_index(inplace=True)"
   ]
  },
  {
   "cell_type": "code",
   "execution_count": 20,
   "metadata": {},
   "outputs": [],
   "source": [
    "list_defects_df[[\"| inspection_id    | defects |\"]].to_csv('rfoutput.txt', sep='|', index=None)"
   ]
  }
 ],
 "metadata": {
  "kernelspec": {
   "display_name": "Python 3",
   "language": "python",
   "name": "python3"
  },
  "language_info": {
   "codemirror_mode": {
    "name": "ipython",
    "version": 3
   },
   "file_extension": ".py",
   "mimetype": "text/x-python",
   "name": "python",
   "nbconvert_exporter": "python",
   "pygments_lexer": "ipython3",
   "version": "3.9.0"
  }
 },
 "nbformat": 4,
 "nbformat_minor": 4
}
