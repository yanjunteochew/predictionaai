{
 "cells": [
  {
   "cell_type": "code",
   "execution_count": 1,
   "metadata": {},
   "outputs": [],
   "source": [
    "import pandas as pd\n",
    "import numpy as np\n",
    "\n",
    "from sklearn.ensemble import RandomForestRegressor\n",
    "from sklearn.metrics import r2_score, mean_squared_error"
   ]
  },
  {
   "cell_type": "code",
   "execution_count": 2,
   "metadata": {},
   "outputs": [],
   "source": [
    "historical_defects = pd.read_csv('data/historical_defects.csv')\n",
    "inspection_sessions = pd.read_csv('data/inspection_sessions.csv')\n",
    "defects = pd.read_csv('data/defects.csv')\n",
    "train_defects = pd.read_csv('data/train_defects.csv', delimiter=',')"
   ]
  },
  {
   "cell_type": "code",
   "execution_count": 3,
   "metadata": {},
   "outputs": [
    {
     "data": {
      "text/plain": [
       "(Index(['inspection_id', 'defect_id', 'defect_sequence_no',\n",
       "        'repeat_defect_detected'],\n",
       "       dtype='object'),\n",
       " Index(['inspection_id', 'machine_id', 'eval_set', 'inspection_number',\n",
       "        'inspection_dow', 'inspection_hour_of_day',\n",
       "        'days_since_last_inspection'],\n",
       "       dtype='object'),\n",
       " Index(['defect_id', 'defect_subcategory_id', 'defect_category_id'], dtype='object'),\n",
       " Index(['inspection_id', 'defect_id', 'defect_sequence_no',\n",
       "        'repeat_defect_detected'],\n",
       "       dtype='object'))"
      ]
     },
     "execution_count": 3,
     "metadata": {},
     "output_type": "execute_result"
    }
   ],
   "source": [
    "historical_defects.columns, inspection_sessions.columns, defects.columns, train_defects.columns"
   ]
  },
  {
   "cell_type": "code",
   "execution_count": 4,
   "metadata": {},
   "outputs": [
    {
     "data": {
      "text/html": [
       "<div>\n",
       "<style scoped>\n",
       "    .dataframe tbody tr th:only-of-type {\n",
       "        vertical-align: middle;\n",
       "    }\n",
       "\n",
       "    .dataframe tbody tr th {\n",
       "        vertical-align: top;\n",
       "    }\n",
       "\n",
       "    .dataframe thead th {\n",
       "        text-align: right;\n",
       "    }\n",
       "</style>\n",
       "<table border=\"1\" class=\"dataframe\">\n",
       "  <thead>\n",
       "    <tr style=\"text-align: right;\">\n",
       "      <th></th>\n",
       "      <th>defect_id</th>\n",
       "      <th>machine_id</th>\n",
       "      <th>inspection_id</th>\n",
       "    </tr>\n",
       "  </thead>\n",
       "  <tbody>\n",
       "  </tbody>\n",
       "</table>\n",
       "</div>"
      ],
      "text/plain": [
       "Empty DataFrame\n",
       "Columns: [defect_id, machine_id, inspection_id]\n",
       "Index: []"
      ]
     },
     "execution_count": 4,
     "metadata": {},
     "output_type": "execute_result"
    }
   ],
   "source": [
    "# UNSUCCESSFUL attempt to correlate machine_id to defect_id\n",
    "unique_defect_machine = train_defects.merge(inspection_sessions, on=\"inspection_id\").groupby(['defect_id','machine_id'])['inspection_id'].count().reset_index()\n",
    "unique_defect_machine[unique_defect_machine['inspection_id']!=1]\n"
   ]
  },
  {
   "cell_type": "code",
   "execution_count": 5,
   "metadata": {},
   "outputs": [],
   "source": [
    "# We are looking for potential indicators of repeat defect\n",
    "\n",
    "# ~features describing the time of defect detected/not\n",
    "# inspection_hour_of_day (accuracy may be influenced by time of day, fatigue, lighting)\n",
    "# inspection_dow day of week\n",
    "\n",
    "# ~features describing the condition of machine and the specific defect\n",
    "# defect_sequence_no (the sequence/order of specific defect) {defect_id,sequence_no} -->category?\n",
    "# machine_id\n",
    "# days since last inspection (condition may have deteriorated much if inspected a long time ago)\n",
    "# inspection number (how many times has it been inspected)\n",
    "\n",
    "# ~features describing the defect itself\n",
    "# not available in test set\n",
    "# ?defect_id (doesn't the sub category and category combined imply the id?)\n",
    "# defect_subcategory_id\n",
    "# defect_category_id"
   ]
  },
  {
   "cell_type": "code",
   "execution_count": 6,
   "metadata": {},
   "outputs": [],
   "source": [
    "train_data = train_defects.merge(defects, on=\"defect_id\")\n",
    "train_data = train_data.rename(columns = {'repeat_defect_detected':'label'})\n",
    "train_data1 = train_data.merge(inspection_sessions, on='inspection_id')\n",
    "# features = train_data1.drop(['label','eval_set','inspection_id','defect_id'], axis=1).columns\n",
    "\n",
    "\n",
    "test_data = inspection_sessions[inspection_sessions['eval_set']=='test']\n",
    "features = test_data.drop(['eval_set'], axis=1).columns"
   ]
  },
  {
   "cell_type": "code",
   "execution_count": 7,
   "metadata": {},
   "outputs": [],
   "source": [
    "x_train = train_data1[features].values\n",
    "y_train = train_data1['label'].values\n",
    "\n",
    "x_test = test_data[features].values\n"
   ]
  },
  {
   "cell_type": "code",
   "execution_count": null,
   "metadata": {},
   "outputs": [],
   "source": [
    "rf_model = RandomForestRegressor(n_estimators=500, oob_score=True, random_state=100)\n",
    "rf_model.fit(x_train, y_train)\n",
    "pred_train = rf_model.predict(x_train)\n",
    "\n",
    "print(np.sqrt(mean_squared_error(y_train,pred_train)))\n",
    "print(r2_score(y_train, pred_train))\n",
    "\n",
    "\n",
    "\n"
   ]
  },
  {
   "cell_type": "code",
   "execution_count": null,
   "metadata": {},
   "outputs": [],
   "source": [
    "\n",
    "\n",
    "pred_test = rf_model.predict(x_test)\n"
   ]
  }
 ],
 "metadata": {
  "kernelspec": {
   "display_name": "Python 3",
   "language": "python",
   "name": "python3"
  },
  "language_info": {
   "codemirror_mode": {
    "name": "ipython",
    "version": 3
   },
   "file_extension": ".py",
   "mimetype": "text/x-python",
   "name": "python",
   "nbconvert_exporter": "python",
   "pygments_lexer": "ipython3",
   "version": "3.9.0"
  }
 },
 "nbformat": 4,
 "nbformat_minor": 4
}
